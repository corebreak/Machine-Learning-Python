{
 "cells": [
  {
   "cell_type": "markdown",
   "id": "a9538507",
   "metadata": {},
   "source": [
    "# COMP5318 Assignment 1"
   ]
  },
  {
   "cell_type": "markdown",
   "id": "19ec435d",
   "metadata": {},
   "source": [
    "To test the model, please go to end of the page"
   ]
  },
  {
   "cell_type": "markdown",
   "id": "b5a8ecdf",
   "metadata": {},
   "source": [
    "## Import Package"
   ]
  },
  {
   "cell_type": "code",
   "execution_count": 1,
   "id": "cb1f0ed7",
   "metadata": {},
   "outputs": [
    {
     "name": "stdout",
     "output_type": "stream",
     "text": [
      "['images_training.h5', 'labels_training.h5']\n",
      "['images_testing.h5', 'labels_testing_2000.h5']\n"
     ]
    }
   ],
   "source": [
    "import h5py\n",
    "import numpy as np\n",
    "import os\n",
    "import time\n",
    "import matplotlib.pyplot as plt\n",
    "import pandas as pd\n",
    "import seaborn as sns\n",
    "import numpy as np\n",
    "print(os.listdir(\"./Input/train\"))\n",
    "print(os.listdir(\"./Input/test\"))"
   ]
  },
  {
   "cell_type": "markdown",
   "id": "22cd7e59",
   "metadata": {},
   "source": [
    "## Computer Status"
   ]
  },
  {
   "cell_type": "code",
   "execution_count": 2,
   "id": "d28f7b00",
   "metadata": {},
   "outputs": [
    {
     "name": "stdout",
     "output_type": "stream",
     "text": [
      "Operating Systems: Windows-10-10.0.19041-SP0\n",
      "Central Processing Unit: Intel(R) Core(TM) i7-7700HQ CPU @ 2.80GHz\n",
      "Number of Processors: 8\n"
     ]
    }
   ],
   "source": [
    "from cpuinfo import get_cpu_info\n",
    "import platform\n",
    "import wmi\n",
    "\n",
    "computer = wmi.WMI()\n",
    "os_info = computer.Win32_OperatingSystem()[0]\n",
    "proc_info = computer.Win32_Processor()[0]\n",
    "gpu_info = computer.Win32_VideoController()[0]\n",
    "system_ram = float(os_info.TotalVisibleMemorySize) / 1048576  \n",
    "\n",
    "print('Operating Systems: {0}'.format(platform.platform()))\n",
    "print('Central Processing Unit: {0}'.format(proc_info.Name))\n",
    "print('Number of Processors: {0}'.format(get_cpu_info()['count']))"
   ]
  },
  {
   "cell_type": "markdown",
   "id": "badfcffe",
   "metadata": {},
   "source": [
    "## Load Data"
   ]
  },
  {
   "cell_type": "markdown",
   "id": "d50af136",
   "metadata": {},
   "source": [
    "Load Training Set"
   ]
  },
  {
   "cell_type": "code",
   "execution_count": 2,
   "id": "1ac4a968",
   "metadata": {},
   "outputs": [
    {
     "name": "stdout",
     "output_type": "stream",
     "text": [
      "(30000, 784) (30000,)\n"
     ]
    }
   ],
   "source": [
    "with h5py.File('./Input/train/images_training.h5','r') as H:\n",
    "    data_train = np.copy(H['datatrain'])\n",
    "with h5py.File('./Input/train/labels_training.h5','r') as H:\n",
    "    label_train = np.copy(H['labeltrain'])\n",
    "\n",
    "print(data_train.shape,label_train.shape)"
   ]
  },
  {
   "cell_type": "markdown",
   "id": "65ebe852",
   "metadata": {},
   "source": [
    "Load testing set"
   ]
  },
  {
   "cell_type": "code",
   "execution_count": 5,
   "id": "d54db1e4",
   "metadata": {},
   "outputs": [],
   "source": [
    "with h5py.File('./Input/test/images_testing.h5','r') as H:\n",
    "    data_test_original = np.copy(H['datatest'])\n",
    "with h5py.File('./Input/test/labels_testing_2000.h5','r') as H:\n",
    "    label_test = np.copy(H['labeltest'])"
   ]
  },
  {
   "cell_type": "markdown",
   "id": "9aab5601",
   "metadata": {},
   "source": [
    "Shape the test set size to match test label size."
   ]
  },
  {
   "cell_type": "code",
   "execution_count": 8,
   "id": "689975e7",
   "metadata": {},
   "outputs": [
    {
     "name": "stdout",
     "output_type": "stream",
     "text": [
      "(2000, 784) (2000,) (3000, 784)\n"
     ]
    }
   ],
   "source": [
    "data_test = data_test_original[:2000]\n",
    "data_exam = data_test_original[2000:]\n",
    "print(data_test.shape,label_test.shape,data_exam.shape)"
   ]
  },
  {
   "cell_type": "markdown",
   "id": "0b886d30",
   "metadata": {},
   "source": [
    "## Data preprocessing"
   ]
  },
  {
   "cell_type": "markdown",
   "id": "ae64fc74",
   "metadata": {},
   "source": [
    "### Classes count"
   ]
  },
  {
   "cell_type": "code",
   "execution_count": 9,
   "id": "23ecb01d",
   "metadata": {},
   "outputs": [],
   "source": [
    "dat_train = pd.DataFrame(data_train)\n",
    "dat_test = pd.DataFrame(label_train)"
   ]
  },
  {
   "cell_type": "code",
   "execution_count": 13,
   "id": "9b2c3c97",
   "metadata": {},
   "outputs": [],
   "source": [
    "df = dat_train.merge(dat_test, how='inner',left_index=True, right_index=True)\n",
    "df.rename(columns={'0_x':'0'},inplace=True)\n",
    "df.rename(columns={'0_y':'label'},inplace=True)"
   ]
  },
  {
   "cell_type": "code",
   "execution_count": 11,
   "id": "0df9a0ba",
   "metadata": {},
   "outputs": [
    {
     "data": {
      "text/html": [
       "<div>\n",
       "<style scoped>\n",
       "    .dataframe tbody tr th:only-of-type {\n",
       "        vertical-align: middle;\n",
       "    }\n",
       "\n",
       "    .dataframe tbody tr th {\n",
       "        vertical-align: top;\n",
       "    }\n",
       "\n",
       "    .dataframe thead th {\n",
       "        text-align: right;\n",
       "    }\n",
       "</style>\n",
       "<table border=\"1\" class=\"dataframe\">\n",
       "  <thead>\n",
       "    <tr style=\"text-align: right;\">\n",
       "      <th></th>\n",
       "      <th>counts</th>\n",
       "      <th>ratio</th>\n",
       "    </tr>\n",
       "    <tr>\n",
       "      <th>label</th>\n",
       "      <th></th>\n",
       "      <th></th>\n",
       "    </tr>\n",
       "  </thead>\n",
       "  <tbody>\n",
       "    <tr>\n",
       "      <th>0</th>\n",
       "      <td>3041</td>\n",
       "      <td>0.101367</td>\n",
       "    </tr>\n",
       "    <tr>\n",
       "      <th>1</th>\n",
       "      <td>2972</td>\n",
       "      <td>0.099067</td>\n",
       "    </tr>\n",
       "    <tr>\n",
       "      <th>2</th>\n",
       "      <td>2936</td>\n",
       "      <td>0.097867</td>\n",
       "    </tr>\n",
       "    <tr>\n",
       "      <th>3</th>\n",
       "      <td>3008</td>\n",
       "      <td>0.100267</td>\n",
       "    </tr>\n",
       "    <tr>\n",
       "      <th>4</th>\n",
       "      <td>2954</td>\n",
       "      <td>0.098467</td>\n",
       "    </tr>\n",
       "    <tr>\n",
       "      <th>5</th>\n",
       "      <td>3029</td>\n",
       "      <td>0.100967</td>\n",
       "    </tr>\n",
       "    <tr>\n",
       "      <th>6</th>\n",
       "      <td>3023</td>\n",
       "      <td>0.100767</td>\n",
       "    </tr>\n",
       "    <tr>\n",
       "      <th>7</th>\n",
       "      <td>3013</td>\n",
       "      <td>0.100433</td>\n",
       "    </tr>\n",
       "    <tr>\n",
       "      <th>8</th>\n",
       "      <td>3040</td>\n",
       "      <td>0.101333</td>\n",
       "    </tr>\n",
       "    <tr>\n",
       "      <th>9</th>\n",
       "      <td>2984</td>\n",
       "      <td>0.099467</td>\n",
       "    </tr>\n",
       "  </tbody>\n",
       "</table>\n",
       "</div>"
      ],
      "text/plain": [
       "       counts     ratio\n",
       "label                  \n",
       "0        3041  0.101367\n",
       "1        2972  0.099067\n",
       "2        2936  0.097867\n",
       "3        3008  0.100267\n",
       "4        2954  0.098467\n",
       "5        3029  0.100967\n",
       "6        3023  0.100767\n",
       "7        3013  0.100433\n",
       "8        3040  0.101333\n",
       "9        2984  0.099467"
      ]
     },
     "execution_count": 11,
     "metadata": {},
     "output_type": "execute_result"
    }
   ],
   "source": [
    "count = df.groupby(['label']).count()\n",
    "count = pd.DataFrame(count['0'])\n",
    "count.rename(columns={'0':'counts'},inplace=True)\n",
    "count['ratio'] = count / sum(count['counts'])\n",
    "count"
   ]
  },
  {
   "cell_type": "code",
   "execution_count": 12,
   "id": "13b40a4a",
   "metadata": {},
   "outputs": [
    {
     "data": {
      "text/plain": [
       "<BarContainer object of 10 artists>"
      ]
     },
     "execution_count": 12,
     "metadata": {},
     "output_type": "execute_result"
    },
    {
     "data": {
      "image/png": "[encoded data removed]",
      "text/plain": [
       "<Figure size 432x288 with 1 Axes>"
      ]
     },
     "metadata": {
      "needs_background": "light"
     },
     "output_type": "display_data"
    }
   ],
   "source": [
    "plt.bar(count.index, count['counts'])"
   ]
  },
  {
   "cell_type": "markdown",
   "id": "b78f8e62",
   "metadata": {},
   "source": [
    "### Normalise Data"
   ]
  },
  {
   "cell_type": "markdown",
   "id": "e7d8e8d9",
   "metadata": {},
   "source": [
    "Min Max Scaler"
   ]
  },
  {
   "cell_type": "code",
   "execution_count": 13,
   "id": "da021762",
   "metadata": {},
   "outputs": [],
   "source": [
    "from sklearn.preprocessing import MinMaxScaler\n",
    "scaler1 = MinMaxScaler()\n",
    "scaler1.fit(data_train)\n",
    "\n",
    "data_train_mm = scaler1.transform(data_train)\n",
    "data_test_mm = scaler1.transform(data_test)"
   ]
  },
  {
   "cell_type": "markdown",
   "id": "c26b291b",
   "metadata": {},
   "source": [
    "Standard (Z-value) Scaler"
   ]
  },
  {
   "cell_type": "code",
   "execution_count": 14,
   "id": "18167cd8",
   "metadata": {},
   "outputs": [],
   "source": [
    "from sklearn.preprocessing import StandardScaler\n",
    "scaler2 = StandardScaler()\n",
    "scaler2.fit(data_train)\n",
    "\n",
    "data_train_sd = scaler2.transform(data_train)\n",
    "data_test_sd = scaler2.transform(data_test)"
   ]
  },
  {
   "cell_type": "markdown",
   "id": "ecf5c56a",
   "metadata": {},
   "source": [
    "### PCA - Data Reshaping"
   ]
  },
  {
   "cell_type": "markdown",
   "id": "cfa8462a",
   "metadata": {},
   "source": [
    "Visualise Cumulative explained_variance_ratio"
   ]
  },
  {
   "cell_type": "code",
   "execution_count": 15,
   "id": "ef2a124c",
   "metadata": {},
   "outputs": [
    {
     "data": {
      "image/png": "[encoded data removed]",
      "text/plain": [
       "<Figure size 576x432 with 1 Axes>"
      ]
     },
     "metadata": {
      "needs_background": "light"
     },
     "output_type": "display_data"
    }
   ],
   "source": [
    "from sklearn.decomposition import PCA\n",
    "\n",
    "pca = PCA()\n",
    "pca.fit(data_train)\n",
    "cumsum = np.cumsum(pca.explained_variance_ratio_)\n",
    "\n",
    "plt.figure(figsize = (8,6))\n",
    "plt.plot(cumsum, linewidth=3)\n",
    "\n",
    "plt.axis([0, data_train.shape[1], 0, 1]) \n",
    "plt.xlabel(\"dimensions\")\n",
    "plt.ylabel(\"explained variance\")\n",
    "plt.grid(True)\n",
    "plt.show()"
   ]
  },
  {
   "cell_type": "markdown",
   "id": "19fd7924",
   "metadata": {},
   "source": [
    "Finding best number of components"
   ]
  },
  {
   "cell_type": "code",
   "execution_count": 16,
   "id": "c6a5431a",
   "metadata": {},
   "outputs": [],
   "source": [
    "from sklearn.metrics import accuracy_score\n",
    "from sklearn.svm import SVC\n",
    "\n",
    "accuracy_list = []\n",
    "run_time = []\n",
    "for i in range(30, 220, 5):\n",
    "    pca = PCA(n_components = i)\n",
    "    pca.fit(data_train_mm)\n",
    "    data_train_pca = pca.transform(data_train_mm)\n",
    "    data_test_pca = pca.transform(data_test_mm)\n",
    "    \n",
    "    t1 = time.time()\n",
    "    lin_svm = SVC()\n",
    "    lin_svm.fit(data_train_pca, label_train)\n",
    "    t2 = time.time()\n",
    "    \n",
    "    svm_pred = lin_svm.predict(data_test_pca)\n",
    "    accuracy_list.append(accuracy_score(label_test, svm_pred))\n",
    "    run_time.append(round(t2-t1))"
   ]
  },
  {
   "cell_type": "code",
   "execution_count": 17,
   "id": "6f7c7884",
   "metadata": {},
   "outputs": [
    {
     "name": "stdout",
     "output_type": "stream",
     "text": [
      "[0.855, 0.8625, 0.864, 0.8635, 0.863, 0.8655, 0.864, 0.8655, 0.865, 0.8645, 0.8665, 0.8695, 0.869, 0.8705, 0.869, 0.8705, 0.869, 0.869, 0.872, 0.8705, 0.871, 0.873, 0.873, 0.8705, 0.8705, 0.8715, 0.8705, 0.87, 0.8715, 0.8695, 0.872, 0.8725, 0.8725, 0.8705, 0.872, 0.8725, 0.872, 0.8715]\n",
      "[8, 8, 8, 10, 9, 9, 9, 10, 10, 10, 10, 11, 11, 11, 12, 15, 14, 14, 14, 15, 16, 19, 18, 18, 19, 20, 23, 24, 23, 24, 23, 23, 26, 25, 27, 29, 29, 29]\n"
     ]
    }
   ],
   "source": [
    "print(accuracy_list)\n",
    "print(run_time)"
   ]
  },
  {
   "cell_type": "markdown",
   "id": "949c38f3",
   "metadata": {},
   "source": [
    "Calculate components with 95% accumulated explained variance."
   ]
  },
  {
   "cell_type": "code",
   "execution_count": 18,
   "id": "c866847d",
   "metadata": {},
   "outputs": [
    {
     "name": "stdout",
     "output_type": "stream",
     "text": [
      "Reduced shape of training data: (30000, 188)\n",
      "Reduced shape of testing data: (2000, 188)\n"
     ]
    }
   ],
   "source": [
    "pca=PCA(n_components=0.95)\n",
    "X_train_re = pca.fit_transform(data_train)\n",
    "X_test_re = pca.transform(data_test)\n",
    "print(\"Reduced shape of training data: {}\".format(str(X_train_re.shape)))\n",
    "print(\"Reduced shape of testing data: {}\".format(str(X_test_re.shape)))"
   ]
  },
  {
   "cell_type": "markdown",
   "id": "d99be518",
   "metadata": {},
   "source": [
    "Located Elbow at 135 Components for Min_Max Scaler"
   ]
  },
  {
   "cell_type": "code",
   "execution_count": 61,
   "id": "dd660add",
   "metadata": {},
   "outputs": [
    {
     "name": "stdout",
     "output_type": "stream",
     "text": [
      "Reduced shape of training data: (30000, 135)\n",
      "Reduced shape of testing data: (2000, 135)\n"
     ]
    }
   ],
   "source": [
    "pca=PCA(n_components=135)\n",
    "X_train_remm = pca.fit_transform(data_train_mm)\n",
    "X_test_remm = pca.transform(data_test_mm)\n",
    "print(\"Reduced shape of training data: {}\".format(str(X_train_remm.shape)))\n",
    "print(\"Reduced shape of testing data: {}\".format(str(X_test_remm.shape)))"
   ]
  },
  {
   "cell_type": "markdown",
   "id": "5c11a1cc",
   "metadata": {},
   "source": [
    "Located Elbow at 135 Components for Standard Scaler"
   ]
  },
  {
   "cell_type": "code",
   "execution_count": 62,
   "id": "a6426ef0",
   "metadata": {},
   "outputs": [
    {
     "name": "stdout",
     "output_type": "stream",
     "text": [
      "Reduced shape of training data: (30000, 135)\n",
      "Reduced shape of testing data: (2000, 135)\n"
     ]
    }
   ],
   "source": [
    "X_train_resd = pca.fit_transform(data_train_sd)\n",
    "X_test_resd = pca.transform(data_test_sd)\n",
    "print(\"Reduced shape of training data: {}\".format(str(X_train_resd.shape)))\n",
    "print(\"Reduced shape of testing data: {}\".format(str(X_test_resd.shape)))"
   ]
  },
  {
   "cell_type": "markdown",
   "id": "8c872e73",
   "metadata": {},
   "source": [
    "## Implement Classifiers"
   ]
  },
  {
   "cell_type": "markdown",
   "id": "f35d76b7",
   "metadata": {},
   "source": [
    "### KNN"
   ]
  },
  {
   "cell_type": "markdown",
   "id": "4f6144dc",
   "metadata": {},
   "source": [
    "Use GridSearchCV function to do Parameter Tuning, and set StratifiedKFold as 10 fold."
   ]
  },
  {
   "cell_type": "code",
   "execution_count": 21,
   "id": "a329fa67",
   "metadata": {},
   "outputs": [
    {
     "name": "stdout",
     "output_type": "stream",
     "text": [
      "Best: 0.860267 using {'n_neighbors': 5, 'p': 1, 'weights': 'distance'}\n",
      "589.4324462413788\n"
     ]
    }
   ],
   "source": [
    "from sklearn.neighbors import KNeighborsClassifier\n",
    "from sklearn.model_selection import StratifiedKFold\n",
    "from sklearn.model_selection import GridSearchCV\n",
    "model = KNeighborsClassifier(n_jobs=-1)\n",
    "\n",
    "n_neighbors = [3, 5, 8]\n",
    "weights = ['uniform', 'distance']\n",
    "p = [1,2]\n",
    "grid = dict(n_neighbors=n_neighbors,weights=weights,p=p)\n",
    "cv = StratifiedKFold(n_splits=10)\n",
    "t1 = time.time()\n",
    "grid_knn = GridSearchCV(estimator=model, param_grid=grid, n_jobs=-1, cv=cv, scoring='accuracy',error_score=0)\n",
    "grid_knn_result = grid_knn.fit(X_train_remm, label_train)\n",
    "t2 = time.time()\n",
    "t_knn3 = t2-t1\n",
    "\n",
    "print(\"Best: %f using %s\" % (grid_knn_result.best_score_, grid_knn_result.best_params_))\n",
    "print(t_knn3)"
   ]
  },
  {
   "cell_type": "code",
   "execution_count": 22,
   "id": "0d6a6ceb",
   "metadata": {
    "scrolled": false
   },
   "outputs": [
    {
     "data": {
      "text/plain": [
       "{'mean_fit_time': array([0.07500722, 0.11944144, 0.28414795, 0.13143163, 0.31176333,\n",
       "        0.25373006, 0.29810433, 0.23248019, 0.31433516, 0.18088663,\n",
       "        0.17961278, 0.17305913]),\n",
       " 'std_fit_time': array([0.0027517 , 0.04200827, 0.18879409, 0.09114265, 0.17444113,\n",
       "        0.20401412, 0.21289338, 0.25661221, 0.19162684, 0.16063413,\n",
       "        0.08893058, 0.1078172 ]),\n",
       " 'mean_score_time': array([114.03512106,  85.44983902,  52.70891478,  25.40301998,\n",
       "        122.91481867,  40.57836363,  21.0957454 ,  42.93931534,\n",
       "         93.89172995,  56.57026289,  29.02909198,   7.3511126 ]),\n",
       " 'std_score_time': array([ 4.95152229, 30.55955259, 48.12330173, 13.11268974, 55.08954549,\n",
       "        16.82725796, 11.27662361, 27.04110814, 53.04828942, 34.51144196,\n",
       "         6.34300285,  1.77208699]),\n",
       " 'param_n_neighbors': masked_array(data=[3, 3, 3, 3, 5, 5, 5, 5, 8, 8, 8, 8],\n",
       "              mask=[False, False, False, False, False, False, False, False,\n",
       "                    False, False, False, False],\n",
       "        fill_value='?',\n",
       "             dtype=object),\n",
       " 'param_p': masked_array(data=[1, 1, 2, 2, 1, 1, 2, 2, 1, 1, 2, 2],\n",
       "              mask=[False, False, False, False, False, False, False, False,\n",
       "                    False, False, False, False],\n",
       "        fill_value='?',\n",
       "             dtype=object),\n",
       " 'param_weights': masked_array(data=['uniform', 'distance', 'uniform', 'distance',\n",
       "                    'uniform', 'distance', 'uniform', 'distance',\n",
       "                    'uniform', 'distance', 'uniform', 'distance'],\n",
       "              mask=[False, False, False, False, False, False, False, False,\n",
       "                    False, False, False, False],\n",
       "        fill_value='?',\n",
       "             dtype=object),\n",
       " 'params': [{'n_neighbors': 3, 'p': 1, 'weights': 'uniform'},\n",
       "  {'n_neighbors': 3, 'p': 1, 'weights': 'distance'},\n",
       "  {'n_neighbors': 3, 'p': 2, 'weights': 'uniform'},\n",
       "  {'n_neighbors': 3, 'p': 2, 'weights': 'distance'},\n",
       "  {'n_neighbors': 5, 'p': 1, 'weights': 'uniform'},\n",
       "  {'n_neighbors': 5, 'p': 1, 'weights': 'distance'},\n",
       "  {'n_neighbors': 5, 'p': 2, 'weights': 'uniform'},\n",
       "  {'n_neighbors': 5, 'p': 2, 'weights': 'distance'},\n",
       "  {'n_neighbors': 8, 'p': 1, 'weights': 'uniform'},\n",
       "  {'n_neighbors': 8, 'p': 1, 'weights': 'distance'},\n",
       "  {'n_neighbors': 8, 'p': 2, 'weights': 'uniform'},\n",
       "  {'n_neighbors': 8, 'p': 2, 'weights': 'distance'}],\n",
       " 'split0_test_score': array([0.856     , 0.85533333, 0.84666667, 0.84533333, 0.85266667,\n",
       "        0.85333333, 0.849     , 0.85033333, 0.85733333, 0.855     ,\n",
       "        0.851     , 0.84966667]),\n",
       " 'split1_test_score': array([0.854     , 0.853     , 0.855     , 0.85366667, 0.856     ,\n",
       "        0.857     , 0.85366667, 0.85533333, 0.85766667, 0.858     ,\n",
       "        0.85566667, 0.857     ]),\n",
       " 'split2_test_score': array([0.85733333, 0.85766667, 0.85466667, 0.854     , 0.855     ,\n",
       "        0.85733333, 0.85366667, 0.85533333, 0.856     , 0.85466667,\n",
       "        0.85366667, 0.856     ]),\n",
       " 'split3_test_score': array([0.84933333, 0.85033333, 0.84766667, 0.85      , 0.85133333,\n",
       "        0.85333333, 0.85033333, 0.85433333, 0.851     , 0.85066667,\n",
       "        0.85566667, 0.85566667]),\n",
       " 'split4_test_score': array([0.86166667, 0.864     , 0.84966667, 0.84833333, 0.85633333,\n",
       "        0.861     , 0.853     , 0.85133333, 0.86233333, 0.86666667,\n",
       "        0.857     , 0.859     ]),\n",
       " 'split5_test_score': array([0.849     , 0.85033333, 0.84166667, 0.84466667, 0.85433333,\n",
       "        0.855     , 0.85      , 0.851     , 0.85666667, 0.85566667,\n",
       "        0.85      , 0.854     ]),\n",
       " 'split6_test_score': array([0.86333333, 0.868     , 0.86333333, 0.86333333, 0.86666667,\n",
       "        0.86866667, 0.868     , 0.86766667, 0.86766667, 0.867     ,\n",
       "        0.862     , 0.86633333]),\n",
       " 'split7_test_score': array([0.85166667, 0.851     , 0.84333333, 0.84566667, 0.858     ,\n",
       "        0.859     , 0.84866667, 0.85133333, 0.85433333, 0.85633333,\n",
       "        0.851     , 0.851     ]),\n",
       " 'split8_test_score': array([0.86166667, 0.861     , 0.861     , 0.862     , 0.86666667,\n",
       "        0.86466667, 0.85966667, 0.85833333, 0.86333333, 0.86533333,\n",
       "        0.86033333, 0.858     ]),\n",
       " 'split9_test_score': array([0.863     , 0.86866667, 0.85333333, 0.85866667, 0.87366667,\n",
       "        0.87333333, 0.86266667, 0.86266667, 0.875     , 0.873     ,\n",
       "        0.86633333, 0.86466667]),\n",
       " 'mean_test_score': array([0.8567    , 0.85793333, 0.85163333, 0.85256667, 0.85906667,\n",
       "        0.86026667, 0.85486667, 0.85576667, 0.86013333, 0.86023333,\n",
       "        0.85626667, 0.85713333]),\n",
       " 'std_test_score': array([0.00529245, 0.00676396, 0.00678634, 0.00657445, 0.00697424,\n",
       "        0.00637146, 0.00616297, 0.0053832 , 0.00673003, 0.00683463,\n",
       "        0.00503499, 0.00502262]),\n",
       " 'rank_test_score': array([ 7,  5, 12, 11,  4,  1, 10,  9,  3,  2,  8,  6])}"
      ]
     },
     "execution_count": 22,
     "metadata": {},
     "output_type": "execute_result"
    }
   ],
   "source": [
    "cv_results_knn = grid_knn_result.cv_results_\n",
    "cv_results_knn"
   ]
  },
  {
   "cell_type": "markdown",
   "id": "4eb14200",
   "metadata": {},
   "source": [
    "Generate Classification Report - training set"
   ]
  },
  {
   "cell_type": "code",
   "execution_count": 23,
   "id": "e8ef659a",
   "metadata": {
    "scrolled": true
   },
   "outputs": [
    {
     "name": "stdout",
     "output_type": "stream",
     "text": [
      "              precision    recall  f1-score   support\n",
      "\n",
      "           0       1.00      1.00      1.00      3041\n",
      "           1       1.00      1.00      1.00      2972\n",
      "           2       1.00      1.00      1.00      2936\n",
      "           3       1.00      1.00      1.00      3008\n",
      "           4       1.00      1.00      1.00      2954\n",
      "           5       1.00      1.00      1.00      3029\n",
      "           6       1.00      1.00      1.00      3023\n",
      "           7       1.00      1.00      1.00      3013\n",
      "           8       1.00      1.00      1.00      3040\n",
      "           9       1.00      1.00      1.00      2984\n",
      "\n",
      "    accuracy                           1.00     30000\n",
      "   macro avg       1.00      1.00      1.00     30000\n",
      "weighted avg       1.00      1.00      1.00     30000\n",
      "\n"
     ]
    }
   ],
   "source": [
    "from sklearn.metrics import classification_report\n",
    "grid_knn_pred1 = grid_knn.predict(X_train_remm)\n",
    "print(classification_report(label_train, grid_knn_pred1))"
   ]
  },
  {
   "cell_type": "markdown",
   "id": "b1ae0147",
   "metadata": {},
   "source": [
    "Generate Classification Report - testing set"
   ]
  },
  {
   "cell_type": "code",
   "execution_count": 24,
   "id": "267a0dce",
   "metadata": {},
   "outputs": [
    {
     "name": "stdout",
     "output_type": "stream",
     "text": [
      "              precision    recall  f1-score   support\n",
      "\n",
      "           0       0.77      0.80      0.79       192\n",
      "           1       0.99      0.99      0.99       184\n",
      "           2       0.74      0.73      0.74       206\n",
      "           3       0.86      0.82      0.84       207\n",
      "           4       0.73      0.72      0.73       220\n",
      "           5       0.99      0.85      0.92       190\n",
      "           6       0.59      0.62      0.61       190\n",
      "           7       0.86      0.94      0.90       192\n",
      "           8       0.96      0.94      0.95       227\n",
      "           9       0.89      0.94      0.92       192\n",
      "\n",
      "    accuracy                           0.84      2000\n",
      "   macro avg       0.84      0.84      0.84      2000\n",
      "weighted avg       0.84      0.84      0.84      2000\n",
      "\n"
     ]
    }
   ],
   "source": [
    "grid_knn_pred2 = grid_knn.predict(X_test_remm)\n",
    "print(classification_report(label_test, grid_knn_pred2))"
   ]
  },
  {
   "cell_type": "markdown",
   "id": "809147d4",
   "metadata": {},
   "source": [
    "Generate Confusion Matrix - training set"
   ]
  },
  {
   "cell_type": "code",
   "execution_count": 25,
   "id": "5eaf0389",
   "metadata": {},
   "outputs": [],
   "source": [
    "from sklearn.metrics import confusion_matrix\n",
    "cm_knn1 = confusion_matrix(label_train, grid_knn_pred1)"
   ]
  },
  {
   "cell_type": "code",
   "execution_count": 69,
   "id": "cdf7b8b5",
   "metadata": {
    "scrolled": false
   },
   "outputs": [
    {
     "data": {
      "image/png": "[encoded data removed]",
      "text/plain": [
       "<Figure size 360x360 with 2 Axes>"
      ]
     },
     "metadata": {
      "needs_background": "light"
     },
     "output_type": "display_data"
    }
   ],
   "source": [
    "classes_list = [\"T-shirt/Top\",\"Trouser\",\"Pullover\",\"Dress\",\"Coat\",\"Sandal\",\"Shirt\",\"Sneaker\",\"Bag\",\"Ankle boot\"]\n",
    "\n",
    "plt.figure(figsize=(5,5))\n",
    "sns.heatmap(cm_knn1, annot=True,fmt=\"2g\",cmap=\"YlGnBu\")\n",
    "plt.xticks(np.arange(len(classes_list)), classes_list,rotation = 45)\n",
    "plt.yticks(np.arange(len(classes_list)), classes_list,rotation = 0)\n",
    "plt.title(\"Confusion Matrix - KNN (train)\")\n",
    "plt.show()"
   ]
  },
  {
   "cell_type": "markdown",
   "id": "759f5332",
   "metadata": {},
   "source": [
    "Generate Confusion Matrix - testing set"
   ]
  },
  {
   "cell_type": "code",
   "execution_count": 67,
   "id": "47b13a30",
   "metadata": {},
   "outputs": [
    {
     "data": {
      "image/png": "[encoded data removed]",
      "text/plain": [
       "<Figure size 360x360 with 2 Axes>"
      ]
     },
     "metadata": {
      "needs_background": "light"
     },
     "output_type": "display_data"
    }
   ],
   "source": [
    "cm_knn2 = confusion_matrix(label_test, grid_knn_pred2)\n",
    "\n",
    "plt.figure(figsize=(5,5))\n",
    "sns.heatmap(cm_knn2, annot=True,fmt=\"2g\",cmap=\"YlGnBu\")\n",
    "plt.xticks(np.arange(len(classes_list)), classes_list,rotation = 45)\n",
    "plt.yticks(np.arange(len(classes_list)), classes_list,rotation = 0)\n",
    "plt.title(\"Confusion Matrix - KNN (test)\")\n",
    "plt.show()"
   ]
  },
  {
   "cell_type": "markdown",
   "id": "5d38d7c8",
   "metadata": {},
   "source": [
    "### Decision Tree"
   ]
  },
  {
   "cell_type": "markdown",
   "id": "1c2255f0",
   "metadata": {},
   "source": [
    "Use GridSearchCV function to do Parameter Tuning, and set StratifiedKFold as 10 fold."
   ]
  },
  {
   "cell_type": "code",
   "execution_count": 70,
   "id": "989febae",
   "metadata": {},
   "outputs": [
    {
     "name": "stdout",
     "output_type": "stream",
     "text": [
      "Best: 0.770867 using {'criterion': 'entropy', 'max_depth': 10}\n",
      "64.24933099746704\n"
     ]
    }
   ],
   "source": [
    "from sklearn.tree import DecisionTreeClassifier\n",
    "model = DecisionTreeClassifier()\n",
    "\n",
    "max_depth = [5, 10, 15]\n",
    "criterion = ['entropy', 'gini']\n",
    "\n",
    "grid = dict(max_depth=max_depth,criterion=criterion)\n",
    "cv = StratifiedKFold(n_splits=10)\n",
    "t1 = time.time()\n",
    "grid_dt = GridSearchCV(estimator=model, param_grid=grid, n_jobs=-1, cv=cv, scoring='accuracy',error_score=0)\n",
    "grid_dt_result = grid_dt.fit(X_train_remm, label_train)\n",
    "t2 = time.time()\n",
    "t_dt3 = t2-t1\n",
    "\n",
    "print(\"Best: %f using %s\" % (grid_dt_result.best_score_, grid_dt_result.best_params_))\n",
    "print(t_dt3)"
   ]
  },
  {
   "cell_type": "code",
   "execution_count": 71,
   "id": "49a51151",
   "metadata": {
    "scrolled": false
   },
   "outputs": [
    {
     "data": {
      "text/plain": [
       "{'mean_fit_time': array([10.24764755, 15.85658908, 17.44451301,  2.80002036,  5.12152376,\n",
       "         6.16414952]),\n",
       " 'std_fit_time': array([0.23225281, 0.33319376, 0.34271971, 0.0312965 , 0.08456573,\n",
       "        0.27435846]),\n",
       " 'mean_score_time': array([0.00169535, 0.0016844 , 0.0018949 , 0.00149615, 0.00189526,\n",
       "        0.00138705]),\n",
       " 'std_score_time': array([0.00045713, 0.00065137, 0.00029912, 0.0004986 , 0.00029924,\n",
       "        0.00047921]),\n",
       " 'param_criterion': masked_array(data=['entropy', 'entropy', 'entropy', 'gini', 'gini',\n",
       "                    'gini'],\n",
       "              mask=[False, False, False, False, False, False],\n",
       "        fill_value='?',\n",
       "             dtype=object),\n",
       " 'param_max_depth': masked_array(data=[5, 10, 15, 5, 10, 15],\n",
       "              mask=[False, False, False, False, False, False],\n",
       "        fill_value='?',\n",
       "             dtype=object),\n",
       " 'params': [{'criterion': 'entropy', 'max_depth': 5},\n",
       "  {'criterion': 'entropy', 'max_depth': 10},\n",
       "  {'criterion': 'entropy', 'max_depth': 15},\n",
       "  {'criterion': 'gini', 'max_depth': 5},\n",
       "  {'criterion': 'gini', 'max_depth': 10},\n",
       "  {'criterion': 'gini', 'max_depth': 15}],\n",
       " 'split0_test_score': array([0.65066667, 0.75333333, 0.75566667, 0.60366667, 0.751     ,\n",
       "        0.75666667]),\n",
       " 'split1_test_score': array([0.65766667, 0.77566667, 0.769     , 0.607     , 0.74733333,\n",
       "        0.765     ]),\n",
       " 'split2_test_score': array([0.652     , 0.759     , 0.757     , 0.577     , 0.73433333,\n",
       "        0.757     ]),\n",
       " 'split3_test_score': array([0.661     , 0.76266667, 0.76033333, 0.61166667, 0.76166667,\n",
       "        0.77133333]),\n",
       " 'split4_test_score': array([0.67      , 0.78366667, 0.77966667, 0.60166667, 0.759     ,\n",
       "        0.77033333]),\n",
       " 'split5_test_score': array([0.653     , 0.776     , 0.772     , 0.602     , 0.755     ,\n",
       "        0.77066667]),\n",
       " 'split6_test_score': array([0.648     , 0.78433333, 0.76966667, 0.604     , 0.74233333,\n",
       "        0.747     ]),\n",
       " 'split7_test_score': array([0.65333333, 0.76833333, 0.759     , 0.611     , 0.75066667,\n",
       "        0.76566667]),\n",
       " 'split8_test_score': array([0.668     , 0.78066667, 0.77733333, 0.61666667, 0.77133333,\n",
       "        0.77466667]),\n",
       " 'split9_test_score': array([0.64466667, 0.765     , 0.76233333, 0.57566667, 0.73366667,\n",
       "        0.774     ]),\n",
       " 'mean_test_score': array([0.65583333, 0.77086667, 0.7662    , 0.60103333, 0.75063333,\n",
       "        0.76523333]),\n",
       " 'std_test_score': array([0.00787718, 0.01023198, 0.00809691, 0.01315502, 0.0112817 ,\n",
       "        0.00855836]),\n",
       " 'rank_test_score': array([5, 1, 2, 6, 4, 3])}"
      ]
     },
     "execution_count": 71,
     "metadata": {},
     "output_type": "execute_result"
    }
   ],
   "source": [
    "cv_results_dt = grid_dt_result.cv_results_\n",
    "cv_results_dt"
   ]
  },
  {
   "cell_type": "markdown",
   "id": "b8e0ccfd",
   "metadata": {},
   "source": [
    "Generate Classification Report - training set"
   ]
  },
  {
   "cell_type": "code",
   "execution_count": 42,
   "id": "f89f7fee",
   "metadata": {},
   "outputs": [
    {
     "name": "stdout",
     "output_type": "stream",
     "text": [
      "              precision    recall  f1-score   support\n",
      "\n",
      "           0       0.84      0.84      0.84      3041\n",
      "           1       0.97      0.97      0.97      2972\n",
      "           2       0.73      0.70      0.71      2936\n",
      "           3       0.87      0.89      0.88      3008\n",
      "           4       0.66      0.78      0.72      2954\n",
      "           5       0.95      0.86      0.90      3029\n",
      "           6       0.65      0.56      0.60      3023\n",
      "           7       0.86      0.95      0.90      3013\n",
      "           8       0.95      0.92      0.93      3040\n",
      "           9       0.97      0.95      0.96      2984\n",
      "\n",
      "    accuracy                           0.84     30000\n",
      "   macro avg       0.84      0.84      0.84     30000\n",
      "weighted avg       0.84      0.84      0.84     30000\n",
      "\n"
     ]
    }
   ],
   "source": [
    "grid_dt_pred1 = grid_dt.predict(X_train_remm)\n",
    "print(classification_report(label_train, grid_dt_pred1))"
   ]
  },
  {
   "cell_type": "markdown",
   "id": "9d9e2761",
   "metadata": {},
   "source": [
    "Generate Classification Report - testing set"
   ]
  },
  {
   "cell_type": "code",
   "execution_count": 43,
   "id": "549f012a",
   "metadata": {
    "scrolled": false
   },
   "outputs": [
    {
     "name": "stdout",
     "output_type": "stream",
     "text": [
      "              precision    recall  f1-score   support\n",
      "\n",
      "           0       0.74      0.71      0.73       192\n",
      "           1       0.93      0.95      0.94       184\n",
      "           2       0.70      0.67      0.68       206\n",
      "           3       0.75      0.74      0.75       207\n",
      "           4       0.66      0.74      0.70       220\n",
      "           5       0.88      0.81      0.84       190\n",
      "           6       0.47      0.46      0.46       190\n",
      "           7       0.80      0.89      0.84       192\n",
      "           8       0.93      0.88      0.90       227\n",
      "           9       0.92      0.90      0.91       192\n",
      "\n",
      "    accuracy                           0.77      2000\n",
      "   macro avg       0.78      0.77      0.77      2000\n",
      "weighted avg       0.78      0.77      0.77      2000\n",
      "\n"
     ]
    }
   ],
   "source": [
    "grid_dt_pred2 = grid_dt.predict(X_test_remm)\n",
    "print(classification_report(label_test, grid_dt_pred2))"
   ]
  },
  {
   "cell_type": "markdown",
   "id": "a8bf9e21",
   "metadata": {},
   "source": [
    "Generate Confusion Matrix - training set"
   ]
  },
  {
   "cell_type": "code",
   "execution_count": 72,
   "id": "de6384a9",
   "metadata": {},
   "outputs": [
    {
     "data": {
      "image/png": "[encoded data removed]",
      "text/plain": [
       "<Figure size 432x432 with 2 Axes>"
      ]
     },
     "metadata": {
      "needs_background": "light"
     },
     "output_type": "display_data"
    }
   ],
   "source": [
    "cm_dt1 = confusion_matrix(label_train, grid_dt_pred1)\n",
    "\n",
    "plt.figure(figsize=(6,6))\n",
    "sns.heatmap(cm_dt1, annot=True,fmt=\"2g\",cmap=\"YlGnBu\")\n",
    "plt.xticks(np.arange(len(classes_list)), classes_list,rotation = 45)\n",
    "plt.yticks(np.arange(len(classes_list)), classes_list,rotation = 0)\n",
    "plt.title(\"Confusion Matrix - Decision Tree (train)\")\n",
    "plt.show()"
   ]
  },
  {
   "cell_type": "markdown",
   "id": "bfd140f5",
   "metadata": {},
   "source": [
    "Generate Confusion Matrix - testing set"
   ]
  },
  {
   "cell_type": "code",
   "execution_count": 73,
   "id": "e344fbe0",
   "metadata": {},
   "outputs": [
    {
     "data": {
      "image/png": "[encoded data removed]",
      "text/plain": [
       "<Figure size 432x432 with 2 Axes>"
      ]
     },
     "metadata": {
      "needs_background": "light"
     },
     "output_type": "display_data"
    }
   ],
   "source": [
    "cm_dt2 = confusion_matrix(label_test, grid_dt_pred2)\n",
    "\n",
    "plt.figure(figsize=(6,6))\n",
    "sns.heatmap(cm_dt2, annot=True,fmt=\"2g\",cmap=\"YlGnBu\")\n",
    "plt.xticks(np.arange(len(classes_list)), classes_list,rotation = 45)\n",
    "plt.yticks(np.arange(len(classes_list)), classes_list,rotation = 0)\n",
    "plt.title(\"Confusion Matrix - Decision Tree (test)\")\n",
    "plt.show()"
   ]
  },
  {
   "cell_type": "markdown",
   "id": "f21e7257",
   "metadata": {},
   "source": [
    "### Suupport Vector Machine"
   ]
  },
  {
   "cell_type": "code",
   "execution_count": 74,
   "id": "0e49d548",
   "metadata": {
    "scrolled": true
   },
   "outputs": [
    {
     "name": "stdout",
     "output_type": "stream",
     "text": [
      "Best: 0.899733 using {'C': 10, 'kernel': 'rbf'}\n",
      "1299.909915447235\n"
     ]
    }
   ],
   "source": [
    "from sklearn.svm import SVC\n",
    "model = SVC()\n",
    "\n",
    "C = [0.1, 10, 100]\n",
    "kernel = ['poly', 'rbf', 'sigmoid']\n",
    "grid = dict(C=C,kernel=kernel)\n",
    "cv = StratifiedKFold(n_splits=10)\n",
    "t1 = time.time()\n",
    "grid_svm = GridSearchCV(estimator=model, param_grid=grid, n_jobs=-1, cv=cv, scoring='accuracy',error_score=0)\n",
    "grid_svm_result = grid_svm.fit(X_train_remm, label_train)\n",
    "t2 = time.time()\n",
    "t_svm3 = t2-t1\n",
    "\n",
    "print(\"Best: %f using %s\" % (grid_svm_result.best_score_, grid_svm_result.best_params_))\n",
    "print(t_svm3)"
   ]
  },
  {
   "cell_type": "code",
   "execution_count": 75,
   "id": "b7a7592e",
   "metadata": {
    "scrolled": false
   },
   "outputs": [
    {
     "data": {
      "text/plain": [
       "{'mean_fit_time': array([270.07710745, 199.83211403, 198.12058525, 118.294959  ,\n",
       "        100.13307502,  94.95433204, 121.26166294, 107.25858197,\n",
       "         75.45264261]),\n",
       " 'std_fit_time': array([ 4.29650122,  3.54135543,  3.98151226,  4.81471864,  3.71931457,\n",
       "         2.90265002,  2.97806846,  4.07990008, 13.19988402]),\n",
       " 'mean_score_time': array([33.85982285, 39.23550415, 29.53883502, 18.71973443, 23.89690747,\n",
       "        21.73576779, 18.23320222, 24.3829896 , 11.86576226]),\n",
       " 'std_score_time': array([0.86746253, 1.02860197, 1.81797282, 1.44293206, 0.8372007 ,\n",
       "        1.06080321, 0.55761104, 0.60015322, 3.59443251]),\n",
       " 'param_C': masked_array(data=[0.1, 0.1, 0.1, 10, 10, 10, 100, 100, 100],\n",
       "              mask=[False, False, False, False, False, False, False, False,\n",
       "                    False],\n",
       "        fill_value='?',\n",
       "             dtype=object),\n",
       " 'param_kernel': masked_array(data=['poly', 'rbf', 'sigmoid', 'poly', 'rbf', 'sigmoid',\n",
       "                    'poly', 'rbf', 'sigmoid'],\n",
       "              mask=[False, False, False, False, False, False, False, False,\n",
       "                    False],\n",
       "        fill_value='?',\n",
       "             dtype=object),\n",
       " 'params': [{'C': 0.1, 'kernel': 'poly'},\n",
       "  {'C': 0.1, 'kernel': 'rbf'},\n",
       "  {'C': 0.1, 'kernel': 'sigmoid'},\n",
       "  {'C': 10, 'kernel': 'poly'},\n",
       "  {'C': 10, 'kernel': 'rbf'},\n",
       "  {'C': 10, 'kernel': 'sigmoid'},\n",
       "  {'C': 100, 'kernel': 'poly'},\n",
       "  {'C': 100, 'kernel': 'rbf'},\n",
       "  {'C': 100, 'kernel': 'sigmoid'}],\n",
       " 'split0_test_score': array([0.806     , 0.835     , 0.744     , 0.88833333, 0.89733333,\n",
       "        0.67766667, 0.88133333, 0.88666667, 0.68866667]),\n",
       " 'split1_test_score': array([0.81033333, 0.844     , 0.74833333, 0.891     , 0.89833333,\n",
       "        0.66466667, 0.88066667, 0.88366667, 0.662     ]),\n",
       " 'split2_test_score': array([0.78766667, 0.83133333, 0.723     , 0.88766667, 0.89633333,\n",
       "        0.664     , 0.88866667, 0.889     , 0.67833333]),\n",
       " 'split3_test_score': array([0.806     , 0.833     , 0.731     , 0.894     , 0.894     ,\n",
       "        0.67866667, 0.88266667, 0.889     , 0.67233333]),\n",
       " 'split4_test_score': array([0.816     , 0.85633333, 0.73866667, 0.89766667, 0.90333333,\n",
       "        0.68866667, 0.88933333, 0.89666667, 0.684     ]),\n",
       " 'split5_test_score': array([0.80433333, 0.834     , 0.73133333, 0.89766667, 0.89866667,\n",
       "        0.67333333, 0.88833333, 0.887     , 0.66733333]),\n",
       " 'split6_test_score': array([0.803     , 0.83866667, 0.731     , 0.894     , 0.90333333,\n",
       "        0.68333333, 0.89033333, 0.898     , 0.67033333]),\n",
       " 'split7_test_score': array([0.80133333, 0.84      , 0.72433333, 0.891     , 0.895     ,\n",
       "        0.67466667, 0.889     , 0.88466667, 0.67466667]),\n",
       " 'split8_test_score': array([0.819     , 0.854     , 0.74466667, 0.90133333, 0.90333333,\n",
       "        0.68133333, 0.89066667, 0.89333333, 0.68133333]),\n",
       " 'split9_test_score': array([0.82466667, 0.853     , 0.73766667, 0.909     , 0.90766667,\n",
       "        0.67933333, 0.897     , 0.898     , 0.68033333]),\n",
       " 'mean_test_score': array([0.80783333, 0.84193333, 0.7354    , 0.89516667, 0.89973333,\n",
       "        0.67656667, 0.8878    , 0.8906    , 0.67593333]),\n",
       " 'std_test_score': array([0.00986041, 0.0089291 , 0.00821219, 0.00618286, 0.00421321,\n",
       "        0.00736063, 0.00472393, 0.00520214, 0.00771694]),\n",
       " 'rank_test_score': array([6, 5, 7, 2, 1, 8, 4, 3, 9])}"
      ]
     },
     "execution_count": 75,
     "metadata": {},
     "output_type": "execute_result"
    }
   ],
   "source": [
    "cv_results_svm = grid_svm_result.cv_results_\n",
    "cv_results_svm"
   ]
  },
  {
   "cell_type": "markdown",
   "id": "371f8d1a",
   "metadata": {},
   "source": [
    "Generate Classification Report - training set"
   ]
  },
  {
   "cell_type": "code",
   "execution_count": 76,
   "id": "62088f02",
   "metadata": {},
   "outputs": [
    {
     "name": "stdout",
     "output_type": "stream",
     "text": [
      "              precision    recall  f1-score   support\n",
      "\n",
      "           0       0.94      0.97      0.95      3041\n",
      "           1       1.00      0.99      1.00      2972\n",
      "           2       0.95      0.95      0.95      2936\n",
      "           3       0.96      0.97      0.97      3008\n",
      "           4       0.94      0.94      0.94      2954\n",
      "           5       1.00      0.99      0.99      3029\n",
      "           6       0.94      0.90      0.92      3023\n",
      "           7       0.98      0.99      0.98      3013\n",
      "           8       1.00      1.00      1.00      3040\n",
      "           9       0.99      0.98      0.99      2984\n",
      "\n",
      "    accuracy                           0.97     30000\n",
      "   macro avg       0.97      0.97      0.97     30000\n",
      "weighted avg       0.97      0.97      0.97     30000\n",
      "\n"
     ]
    }
   ],
   "source": [
    "grid_svm_pred1 = grid_svm.predict(X_train_remm)\n",
    "print(classification_report(label_train, grid_svm_pred1))"
   ]
  },
  {
   "cell_type": "markdown",
   "id": "fa1b20d4",
   "metadata": {},
   "source": [
    "Generate Classification Report - testing set"
   ]
  },
  {
   "cell_type": "code",
   "execution_count": 77,
   "id": "b55bcfbf",
   "metadata": {
    "scrolled": true
   },
   "outputs": [
    {
     "name": "stdout",
     "output_type": "stream",
     "text": [
      "              precision    recall  f1-score   support\n",
      "\n",
      "           0       0.81      0.82      0.82       192\n",
      "           1       0.99      0.99      0.99       184\n",
      "           2       0.81      0.82      0.82       206\n",
      "           3       0.85      0.86      0.86       207\n",
      "           4       0.85      0.82      0.83       220\n",
      "           5       0.98      0.97      0.98       190\n",
      "           6       0.71      0.69      0.70       190\n",
      "           7       0.93      0.95      0.94       192\n",
      "           8       0.97      0.97      0.97       227\n",
      "           9       0.96      0.96      0.96       192\n",
      "\n",
      "    accuracy                           0.89      2000\n",
      "   macro avg       0.89      0.89      0.89      2000\n",
      "weighted avg       0.89      0.89      0.89      2000\n",
      "\n"
     ]
    }
   ],
   "source": [
    "grid_svm_pred2 = grid_svm.predict(X_test_remm)\n",
    "print(classification_report(label_test, grid_svm_pred2))"
   ]
  },
  {
   "cell_type": "markdown",
   "id": "257fc876",
   "metadata": {},
   "source": [
    "Generate Confusion Matrix - training set"
   ]
  },
  {
   "cell_type": "code",
   "execution_count": 79,
   "id": "1db674cc",
   "metadata": {
    "scrolled": false
   },
   "outputs": [
    {
     "data": {
      "image/png": "[encoded data removed]",
      "text/plain": [
       "<Figure size 432x432 with 2 Axes>"
      ]
     },
     "metadata": {
      "needs_background": "light"
     },
     "output_type": "display_data"
    }
   ],
   "source": [
    "cm_svm1 = confusion_matrix(label_train, grid_svm_pred1)\n",
    "\n",
    "plt.figure(figsize=(6,6))\n",
    "sns.heatmap(cm_svm1, annot=True,fmt=\"2g\",cmap=\"YlGnBu\")\n",
    "plt.xticks(np.arange(len(classes_list)), classes_list,rotation = 45)\n",
    "plt.yticks(np.arange(len(classes_list)), classes_list,rotation = 0)\n",
    "plt.title(\"Confusion Matrix - SVM (train)\")\n",
    "plt.show()"
   ]
  },
  {
   "cell_type": "markdown",
   "id": "a25782e5",
   "metadata": {},
   "source": [
    "Generate Confusion Matrix - testing set"
   ]
  },
  {
   "cell_type": "code",
   "execution_count": 80,
   "id": "eaf34201",
   "metadata": {},
   "outputs": [
    {
     "data": {
      "image/png": "[encoded data removed]",
      "text/plain": [
       "<Figure size 432x432 with 2 Axes>"
      ]
     },
     "metadata": {
      "needs_background": "light"
     },
     "output_type": "display_data"
    }
   ],
   "source": [
    "cm_svm2 = confusion_matrix(label_test, grid_svm_pred2)\n",
    "\n",
    "plt.figure(figsize=(6,6))\n",
    "sns.heatmap(cm_svm2, annot=True,fmt=\"2g\",cmap=\"YlGnBu\")\n",
    "plt.xticks(np.arange(len(classes_list)), classes_list,rotation = 45)\n",
    "plt.yticks(np.arange(len(classes_list)), classes_list,rotation = 0)\n",
    "plt.title(\"Confusion Matrix - SVM (test)\")\n",
    "plt.show()"
   ]
  },
  {
   "cell_type": "markdown",
   "id": "56b7ec6b",
   "metadata": {},
   "source": [
    "## Best Classifier Evaluation - SVM"
   ]
  },
  {
   "cell_type": "markdown",
   "id": "9f0a6141",
   "metadata": {},
   "source": [
    "Below cell is to predict 3000 unlabeled test data."
   ]
  },
  {
   "cell_type": "code",
   "execution_count": 13,
   "id": "ad639afc",
   "metadata": {},
   "outputs": [
    {
     "name": "stdout",
     "output_type": "stream",
     "text": [
      "The running time of svm is: 34.07 seconds\n"
     ]
    }
   ],
   "source": [
    "import time\n",
    "from sklearn.svm import SVC\n",
    "from sklearn.preprocessing import MinMaxScaler\n",
    "from sklearn.decomposition import PCA\n",
    "\n",
    "#Load data\n",
    "with h5py.File('./Input/train/images_training.h5','r') as H:\n",
    "    data_train = np.copy(H['datatrain'])\n",
    "with h5py.File('./Input/train/labels_training.h5','r') as H:\n",
    "    label_train = np.copy(H['labeltrain'])\n",
    "\n",
    "with h5py.File('./Input/test/images_testing.h5','r') as H:\n",
    "    data_test_original = np.copy(H['datatest'])\n",
    "with h5py.File('./Input/test/labels_testing_2000.h5','r') as H:\n",
    "    label_test = np.copy(H['labeltest'])\n",
    "data_test = data_test_original[:2000]\n",
    "data_exam = data_test_original[2000:]\n",
    "\n",
    "#Start counting running time\n",
    "t1 = time.time()\n",
    "\n",
    "#Pre-process data - scaling\n",
    "scale = MinMaxScaler()\n",
    "scale.fit(data_train)\n",
    "train_mm = scale.transform(data_train)\n",
    "exam_mm = scale.transform(data_exam)\n",
    "\n",
    "#Pre-process data - reshaping\n",
    "pca=PCA(n_components=135)\n",
    "train_remm = pca.fit_transform(train_mm)\n",
    "exam_remm = pca.transform(exam_mm)\n",
    "\n",
    "#Set best parameter\n",
    "svm = SVC(C=10, kernel='rbf')\n",
    "\n",
    "#Fitting the model and prediction\n",
    "svm.fit(train_remm, label_train)\n",
    "svm_pred = svm.predict(exam_remm)\n",
    "\n",
    "#Finish counting running time\n",
    "t2 = time.time()\n",
    "\n",
    "#Expport prediction\n",
    "output = svm_pred\n",
    "\n",
    "with h5py.File('Output/predicted_labels.h5','w') as H:\n",
    "    H.create_dataset('Output',data=output)\n",
    "\n",
    "#Print out running time of the model\n",
    "print('The running time of svm is:', round((t2-t1),2),'seconds')"
   ]
  },
  {
   "cell_type": "code",
   "execution_count": null,
   "id": "d19ea87c",
   "metadata": {},
   "outputs": [],
   "source": []
  },
  {
   "cell_type": "code",
   "execution_count": null,
   "id": "99214576",
   "metadata": {},
   "outputs": [],
   "source": []
  },
  {
   "cell_type": "code",
   "execution_count": null,
   "id": "90680328",
   "metadata": {},
   "outputs": [],
   "source": []
  }
 ],
 "metadata": {
  "kernelspec": {
   "display_name": "Python 3 (ipykernel)",
   "language": "python",
   "name": "python3"
  },
  "language_info": {
   "codemirror_mode": {
    "name": "ipython",
    "version": 3
   },
   "file_extension": ".py",
   "mimetype": "text/x-python",
   "name": "python",
   "nbconvert_exporter": "python",
   "pygments_lexer": "ipython3",
   "version": "3.10.12"
  }
 },
 "nbformat": 4,
 "nbformat_minor": 5
}
